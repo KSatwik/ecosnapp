{
  "nbformat": 4,
  "nbformat_minor": 0,
  "metadata": {
    "colab": {
      "provenance": []
    },
    "kernelspec": {
      "name": "python3",
      "display_name": "Python 3"
    },
    "language_info": {
      "name": "python"
    }
  },
  "cells": [
    {
      "cell_type": "code",
      "execution_count": 1,
      "metadata": {
        "id": "GWDRRyuhaizC"
      },
      "outputs": [],
      "source": [
        "from skimage.metrics import structural_similarity\n",
        "import cv2"
      ]
    },
    {
      "cell_type": "code",
      "source": [
        "#Works well with images of different dimensions\n",
        "def orb_sim(img1, img2):\n",
        "  # SIFT is no longer available in cv2 so using ORB\n",
        "  orb = cv2.ORB_create()\n",
        "\n",
        "  # detect keypoints and descriptors\n",
        "  kp_a, desc_a = orb.detectAndCompute(img1, None)\n",
        "  kp_b, desc_b = orb.detectAndCompute(img2, None)\n",
        "\n",
        "  # define the bruteforce matcher object\n",
        "  bf = cv2.BFMatcher(cv2.NORM_HAMMING, crossCheck=True)\n",
        "    \n",
        "  #perform matches. \n",
        "  matches = bf.match(desc_a, desc_b)\n",
        "  #Look for similar regions with distance < 50. Goes from 0 to 100 so pick a number between.\n",
        "  similar_regions = [i for i in matches if i.distance < 50]  \n",
        "  if len(matches) == 0:\n",
        "    return 0\n",
        "  return len(similar_regions) / len(matches)\n"
      ],
      "metadata": {
        "id": "qa1h9m9sa1QR"
      },
      "execution_count": 2,
      "outputs": []
    },
    {
      "cell_type": "code",
      "source": [
        "#Needs images to be same dimensions\n",
        "def structural_sim(img1, img2):\n",
        "  sim, diff = structural_similarity(img1, img2, full=True)\n",
        "  return sim"
      ],
      "metadata": {
        "id": "3aJ4lFiCa1S_"
      },
      "execution_count": 3,
      "outputs": []
    },
    {
      "cell_type": "code",
      "source": [
        "img00 = cv2.imread('/content/Bus.jpg', 0)\n",
        "img01 = cv2.imread('/content/BusDuplicate.jpg', 0)"
      ],
      "metadata": {
        "id": "ZNqr5hxoa1V3"
      },
      "execution_count": 4,
      "outputs": []
    },
    {
      "cell_type": "code",
      "source": [
        "orb_similarity = orb_sim(img00, img01)  #1.0 means identical.\n",
        "print(\"Similarity using ORB is: \", orb_similarity)"
      ],
      "metadata": {
        "colab": {
          "base_uri": "https://localhost:8080/"
        },
        "id": "nzRQ47DZjvs7",
        "outputId": "68399299-aa54-4d95-9e9a-ce51dae062d3"
      },
      "execution_count": 5,
      "outputs": [
        {
          "output_type": "stream",
          "name": "stdout",
          "text": [
            "Similarity using ORB is:  0.9956521739130435\n"
          ]
        }
      ]
    },
    {
      "cell_type": "code",
      "source": [
        "ssim = structural_sim(img00, img01) #1.0 means identical.\n",
        "print(\"Similarity using SSIM is: \", ssim)"
      ],
      "metadata": {
        "colab": {
          "base_uri": "https://localhost:8080/"
        },
        "id": "4fFOs_WQjv0w",
        "outputId": "99947290-dc6b-4e2a-8c4c-61c8ac0301b6"
      },
      "execution_count": 6,
      "outputs": [
        {
          "output_type": "stream",
          "name": "stdout",
          "text": [
            "Similarity using SSIM is:  0.5527935425669406\n"
          ]
        }
      ]
    },
    {
      "cell_type": "code",
      "source": [],
      "metadata": {
        "id": "r7wcTECvjv32"
      },
      "execution_count": 6,
      "outputs": []
    },
    {
      "cell_type": "code",
      "source": [
        "img1 = cv2.imread('/content/Bus.jpg', 0)  # diff dimensions\n",
        "img2 = cv2.imread('/content/Bus1.jpg', 0)  \n",
        "img3 = cv2.imread('/content/Bus2.jpg', 0)  \n",
        "img4 = cv2.imread('/content/Bus3.jpg', 0)  "
      ],
      "metadata": {
        "id": "kqCnvGjqicRS"
      },
      "execution_count": 7,
      "outputs": []
    },
    {
      "cell_type": "code",
      "source": [
        "orb_similarity = orb_sim(img1, img2)  #1.0 means identical. \n",
        "print(\"Similarity using ORB is: \", orb_similarity)"
      ],
      "metadata": {
        "colab": {
          "base_uri": "https://localhost:8080/"
        },
        "id": "dFas55IPa1Yd",
        "outputId": "2c29881a-3e95-4ca6-8c21-33c86a919313"
      },
      "execution_count": 8,
      "outputs": [
        {
          "output_type": "stream",
          "name": "stdout",
          "text": [
            "Similarity using ORB is:  0.9014084507042254\n"
          ]
        }
      ]
    },
    {
      "cell_type": "code",
      "source": [
        "from skimage.transform import resize\n",
        "img5 = resize(img2, (img1.shape[0], img1.shape[1]), anti_aliasing=True, preserve_range=True)"
      ],
      "metadata": {
        "id": "pdEP4DYJa1bF"
      },
      "execution_count": 9,
      "outputs": []
    },
    {
      "cell_type": "code",
      "source": [
        "ssim = structural_sim(img1, img5) #1.0 means identical. Lower = not similar\n",
        "print(\"Similarity using SSIM is: \", ssim)"
      ],
      "metadata": {
        "colab": {
          "base_uri": "https://localhost:8080/"
        },
        "id": "e2QckfvHa1d8",
        "outputId": "86e3aa96-e0e4-4ca8-a6f0-b007bbf50f83"
      },
      "execution_count": 10,
      "outputs": [
        {
          "output_type": "stream",
          "name": "stdout",
          "text": [
            "Similarity using SSIM is:  0.5952290376951442\n"
          ]
        },
        {
          "output_type": "stream",
          "name": "stderr",
          "text": [
            "<ipython-input-3-c084b34e2bf9>:3: UserWarning: Inputs have mismatched dtype.  Setting data_range based on im1.dtype.\n",
            "  sim, diff = structural_similarity(img1, img2, full=True)\n"
          ]
        }
      ]
    }
  ]
}